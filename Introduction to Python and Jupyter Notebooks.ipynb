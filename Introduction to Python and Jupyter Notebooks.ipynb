{
 "cells": [
  {
   "cell_type": "markdown",
   "id": "7a402adb",
   "metadata": {},
   "source": [
    "Calculate the Body Mass Index (BMI) for assessing an individual's body weight relative to their height."
   ]
  },
  {
   "cell_type": "code",
   "execution_count": 1,
   "id": "e594ad95",
   "metadata": {},
   "outputs": [],
   "source": [
    "import matplotlib.pyplot as plt"
   ]
  },
  {
   "cell_type": "code",
   "execution_count": 2,
   "id": "c1891680",
   "metadata": {},
   "outputs": [],
   "source": [
    "# Input data for friends/family\n",
    "names = [\"John\", \"Emily\", \"Michael\", \"Sophia\", \"Daniel\"]\n",
    "heights = [173, 161, 180, 158, 177]  # in centimeters\n",
    "weights = [61, 79, 83, 58, 57]  # in kilograms"
   ]
  },
  {
   "cell_type": "markdown",
   "id": "c86ad62a",
   "metadata": {},
   "source": [
    "The names list contains the names of five individuals, the heights list contains their corresponding heights in centimeters, and the weights list contains their respective weights in kilograms."
   ]
  },
  {
   "cell_type": "code",
   "execution_count": 12,
   "id": "98bea303",
   "metadata": {},
   "outputs": [
    {
     "name": "stdout",
     "output_type": "stream",
     "text": [
      "John has BMI of 20.38 which is normal. The new BMI index is 20.14\n",
      "Emily has BMI of 30.48 which is obese. The new BMI index is 31.23\n",
      "Michael has BMI of 25.62 which is overweight. The new BMI index is 24.82\n",
      "Sophia has BMI of 23.23 which is normal. The new BMI index is 24.03\n",
      "Daniel has BMI of 18.19 which is underweight. The new BMI index is 17.78\n"
     ]
    }
   ],
   "source": [
    "# Calculate BMI for each person\n",
    "bmis = []\n",
    "categories = []\n",
    "new_bmis = []\n",
    "\n",
    "for i in range(len(names)):\n",
    "    height_in_meters = heights[i] / 100  # Convert height to meters\n",
    "    bmi = weights[i] / (height_in_meters ** 2)  # Calculate BMI\n",
    "    bmis.append(bmi)\n",
    "    new_bmi = 1.3 * weights[i] / (height_in_meters ** 2.5) # Calculate new BMI\n",
    "    new_bmis.append(new_bmi)\n",
    "    \n",
    "     # Determine BMI category\n",
    "    if bmi < 18.5:\n",
    "        categories.append(\"underweight\")\n",
    "    elif bmi < 25.0:\n",
    "        categories.append(\"normal\")\n",
    "    elif bmi < 30.0:\n",
    "        categories.append(\"overweight\")\n",
    "    else:\n",
    "        categories.append(\"obese\")\n",
    "        \n",
    "    # Print the statement\n",
    "    print(f\"{names[i]} has BMI of {bmi:.2f} which is {categories[i]}. The new BMI index is {new_bmi:.2f}\")"
   ]
  },
  {
   "cell_type": "markdown",
   "id": "fe234971",
   "metadata": {},
   "source": [
    "This script iterates through the lists of names, heights, and weights, calculates the BMI/newBMI for each person, and appends the result to the bmis/new_bmis list. Following that, these values were compared with the constant value defined by the WHO and then shown to users on a screen."
   ]
  },
  {
   "cell_type": "code",
   "execution_count": 10,
   "id": "a40fb7ba",
   "metadata": {},
   "outputs": [
    {
     "data": {
      "image/png": "[encoded data removed]",
      "text/plain": [
       "<Figure size 640x480 with 1 Axes>"
      ]
     },
     "metadata": {},
     "output_type": "display_data"
    }
   ],
   "source": [
    "# Create a bar plot with different colors for each category\n",
    "colors = {'underweight': 'blue', 'normal': 'green', 'overweight': 'yellow', 'obese': 'red'}\n",
    "\n",
    "plt.bar(names, bmis, color=[colors[category] for category in categories])\n",
    "\n",
    "# Add labels and title\n",
    "plt.title(\"My Friends' BMIs\")\n",
    "\n",
    "# Show the plot\n",
    "plt.show()"
   ]
  },
  {
   "cell_type": "markdown",
   "id": "0a0dc404",
   "metadata": {},
   "source": [
    "As for the advantages of BMI, it is a quick and easy assessment tool for identifying health risks. It serves as a risk indicator for various health conditions, allowing for targeted interventions. BMI's simplicity and ease of calculation make it a valuable tool for monitoring population health trends and addressing health risks.\n",
    "\n",
    "For the limitations of BMI, it has limited applicability due to its lack of precision in identifying muscle and fat mass, disregarding body composition, and its inability to account for variations in body composition among different ethnic groups, potentially leading to misclassification and misinterpretation of health risks.\n",
    "\n",
    "BMI should not be the sole determinant of an individual's health, as it can lead to stigmatization, unrealistic beauty standards, and discourage healthy behaviors. Overreliance on BMI can perpetuate unhealthy habits and overlook other vital factors, such as physical activity and a balanced diet."
   ]
  },
  {
   "cell_type": "markdown",
   "id": "5b5d7367",
   "metadata": {},
   "source": [
    "The scaling factor of 1.3 was determined to make the proposed new BMI formula align with the traditional BMI formula for adults of average height, while the exponent of 2.5 is a compromise between the exponent of 2 in the traditional formula for BMI and the exponent of 3 that would be expected for the scaling of weight (which at constant density would theoretically scale with volume, i.e., as the cube of the height) with height. In Trefethen's analysis, an exponent of 2.5 was found to fit empirical data more closely with less distortion than either an exponent of 2 or 3."
   ]
  }
 ],
 "metadata": {
  "kernelspec": {
   "display_name": "Python 3 (ipykernel)",
   "language": "python",
   "name": "python3"
  },
  "language_info": {
   "codemirror_mode": {
    "name": "ipython",
    "version": 3
   },
   "file_extension": ".py",
   "mimetype": "text/x-python",
   "name": "python",
   "nbconvert_exporter": "python",
   "pygments_lexer": "ipython3",
   "version": "3.11.5"
  }
 },
 "nbformat": 4,
 "nbformat_minor": 5
}
